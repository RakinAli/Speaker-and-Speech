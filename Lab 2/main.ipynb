{
 "cells": [
  {
   "cell_type": "code",
   "execution_count": 9,
   "metadata": {},
   "outputs": [],
   "source": [
    "import numpy as np\n",
    "from prondict import *\n",
    "from lab2_proto import *\n",
    "from lab2_tools import *\n",
    "import warnings\n",
    "warnings.filterwarnings(\"ignore\", category=RuntimeWarning)\n",
    "phoneHMMs = phoneHMMs = np.load('lab2_models_onespkr.npz', allow_pickle=True)['phoneHMMs'].item()\n",
    "\n"
   ]
  },
  {
   "cell_type": "code",
   "execution_count": 10,
   "metadata": {},
   "outputs": [],
   "source": [
    "isolated = {}\n",
    "for digit in prondict.keys():\n",
    " isolated[digit] = ['sil'] + prondict[digit] + ['sil']\n",
    "\n",
    "\n",
    "wordHMMs = {}\n",
    "for digit in prondict.keys():\n",
    " wordHMMs[digit] = concatHMMs(phoneHMMs, isolated[digit])\n"
   ]
  },
  {
   "cell_type": "code",
   "execution_count": 11,
   "metadata": {},
   "outputs": [],
   "source": [
    "example = np.load('lab2_example.npz', allow_pickle=True)['example'].item()\n"
   ]
  },
  {
   "cell_type": "markdown",
   "metadata": {},
   "source": [
    "5.1 Gaussian emission probabilities\n"
   ]
  },
  {
   "cell_type": "code",
   "execution_count": 12,
   "metadata": {},
   "outputs": [
    {
     "name": "stdout",
     "output_type": "stream",
     "text": [
      "True\n"
     ]
    }
   ],
   "source": [
    "lmfcc= example['lmfcc'] \n",
    "example_obsloglik= example['obsloglik']\n",
    "obsloglik = log_multivariate_normal_density_diag(X=lmfcc,means=wordHMMs['o']['means'],covars=wordHMMs['o']['covars'])\n",
    "print(np.array_equal(np.round(example_obsloglik,4),np.round(obsloglik,4) ))\n",
    "\n"
   ]
  },
  {
   "cell_type": "markdown",
   "metadata": {},
   "source": [
    "5.2 Forward Algorithm"
   ]
  },
  {
   "cell_type": "code",
   "execution_count": 13,
   "metadata": {},
   "outputs": [
    {
     "name": "stdout",
     "output_type": "stream",
     "text": [
      "True\n"
     ]
    }
   ],
   "source": [
    "\n",
    "logalpha = forward(obsloglik,np.log(wordHMMs['o']['startprob']),np.log(wordHMMs['o']['transmat'][:-1, :-1]))\n",
    "print(np.array_equal(np.round(logalpha,4),np.round(example['logalpha'],4)))\n",
    "\n",
    "\n"
   ]
  },
  {
   "cell_type": "markdown",
   "metadata": {},
   "source": [
    "5.3 Backward Algorithm"
   ]
  },
  {
   "cell_type": "markdown",
   "metadata": {},
   "source": []
  },
  {
   "cell_type": "code",
   "execution_count": 14,
   "metadata": {},
   "outputs": [
    {
     "name": "stdout",
     "output_type": "stream",
     "text": [
      "True\n"
     ]
    }
   ],
   "source": [
    "logbeta= backward(obsloglik,np.log(wordHMMs['o']['startprob']),np.log(wordHMMs['o']['transmat'][:-1, :-1]))\n",
    "print(np.array_equal(np.round(logbeta,4),np.round(example['logbeta'],4)))"
   ]
  },
  {
   "cell_type": "markdown",
   "metadata": {},
   "source": [
    "State posteriors (gamma)\n"
   ]
  },
  {
   "cell_type": "code",
   "execution_count": 15,
   "metadata": {},
   "outputs": [
    {
     "name": "stdout",
     "output_type": "stream",
     "text": [
      "True\n"
     ]
    }
   ],
   "source": [
    "\n",
    "log_gamma = statePosteriors(logalpha,logbeta)\n",
    "print(np.array_equal(np.round(log_gamma,1) ,np.round(example['loggamma'],1)))"
   ]
  },
  {
   "cell_type": "code",
   "execution_count": 16,
   "metadata": {},
   "outputs": [
    {
     "name": "stdout",
     "output_type": "stream",
     "text": [
      "True\n"
     ]
    }
   ],
   "source": [
    "viterbi_loglik , path = viterbi(obsloglik,np.log(wordHMMs['o']['startprob']),np.log(wordHMMs['o']['transmat'][:-1, :-1]))\n",
    "print(np.array_equal(np.round(viterbi_loglik,1) ,np.round(example['vloglik'],1)))\n"
   ]
  }
 ],
 "metadata": {
  "kernelspec": {
   "display_name": "Python 3",
   "language": "python",
   "name": "python3"
  },
  "language_info": {
   "codemirror_mode": {
    "name": "ipython",
    "version": 3
   },
   "file_extension": ".py",
   "mimetype": "text/x-python",
   "name": "python",
   "nbconvert_exporter": "python",
   "pygments_lexer": "ipython3",
   "version": "3.9.13"
  }
 },
 "nbformat": 4,
 "nbformat_minor": 2
}
