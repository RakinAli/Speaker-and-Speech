{
  "cells": [
    {
      "cell_type": "code",
      "execution_count": 35,
      "metadata": {
        "id": "wSwBnm_mGuRw"
      },
      "outputs": [],
      "source": [
        "\n",
        "import torch\n",
        "import torch.nn as nn\n",
        "import torch.nn.functional as F\n",
        "import numpy as np\n",
        "import matplotlib.pyplot as plt\n",
        "from torch.utils.tensorboard import SummaryWriter\n",
        "from sklearn.preprocessing import StandardScaler\n",
        "\n",
        "# finally evaluate model on the test set here\n",
        "# ...\n",
        "\n",
        "# save the trained network\n",
        "#torch.save(net.state_dict(), 'trained-net.pt')\n",
        "\n",
        "class Net(torch.nn.Module):\n",
        "    def __init__(self, input, n_HiddenLayers):\n",
        "        super(Net, self).__init__()\n",
        "        all_layers = []\n",
        "\n",
        "        for i in range(n_HiddenLayers-1):\n",
        "             if(i==0):\n",
        "              all_layers.append(nn.Linear(input, 256))\n",
        "              all_layers.append(nn.ReLU())\n",
        "             else:\n",
        "              all_layers.append(nn.Linear(256, 256))\n",
        "              all_layers.append(nn.ReLU())\n",
        "\n",
        "        all_layers.append(nn.Linear(256, 61))\n",
        "        if(n_HiddenLayers==1):\n",
        "          all_layers = []\n",
        "          all_layers.append(nn.Linear(input, 61))\n",
        "\n",
        "\n",
        "        self.layers = nn.Sequential(\n",
        "            *all_layers)\n",
        "\n",
        "\n",
        "    def forward(self, x):\n",
        "\n",
        "        return self.layers(x)\n",
        "\n",
        "\n",
        "\n",
        "def count_parameters(net):\n",
        "    return sum(p.numel() for p in net.parameters() if p.requires_grad)\n",
        "\n",
        "def fit(net,train_loader,val_loader):\n",
        "\n",
        "    training_loss= []\n",
        "    validation_loss = []\n",
        "\n",
        "\n",
        "\n",
        "\n",
        "    writer = SummaryWriter()\n",
        "    optimizer = torch.optim.Adam(net.parameters())\n",
        "    # train the network\n",
        "    num_epochs = 20\n",
        "    criterion =  nn.CrossEntropyLoss()\n",
        "    for epoch in range(num_epochs):\n",
        "        net.train()\n",
        "        train_loss = 0.0\n",
        "        for inputs, labels in train_loader:\n",
        "            # zero the parameter gradients\n",
        "            optimizer.zero_grad()\n",
        "            # forward + backward + optimize\n",
        "            outputs = net(inputs)\n",
        "\n",
        "\n",
        "            loss = criterion(outputs, labels)\n",
        "            loss.backward()\n",
        "            optimizer.step()\n",
        "            # accumulate the training loss\n",
        "            train_loss += loss.item()\n",
        "\n",
        "\n",
        "        # calculate the validation loss\n",
        "        net.eval()\n",
        "        with torch.no_grad():\n",
        "            val_loss = 0.0\n",
        "            for inputs, labels in val_loader:\n",
        "                outputs = net(inputs)\n",
        "                loss = criterion(outputs, labels)\n",
        "                val_loss += loss.item()\n",
        "\n",
        "        # print the epoch loss\n",
        "        train_loss /= len(train_loader)\n",
        "        val_loss /= len(val_loader)\n",
        "        training_loss.append(train_loss)\n",
        "        validation_loss.append(val_loss)\n",
        "\n",
        "        print(f'Epoch {epoch}: train_loss={train_loss}, val_loss={val_loss}')\n",
        "        writer.add_scalars('loss',{'train':train_loss,'val':val_loss},epoch)\n",
        "\n",
        "    return training_loss, validation_loss\n",
        "\n",
        "\n",
        "def procesData(x_T, y_T, x_V, y_V, x_test, y_test):\n",
        "  batch_size = 256\n",
        "\n",
        "  x_T = x_T.astype('float32')\n",
        "  x_V = x_V.astype('float32')\n",
        "  x_test =  x_test.astype('float32')\n",
        "\n",
        "  Normalizer = StandardScaler()\n",
        "  x_T = Normalizer.fit_transform(x_T)\n",
        "  x_V = Normalizer.transform(x_V)\n",
        "  x_test = Normalizer.transform(x_test)\n",
        "\n",
        "  train_x = torch.FloatTensor(x_T)\n",
        "  train_y = torch.LongTensor(y_T)\n",
        "  \n",
        "\n",
        "  val_x = torch.FloatTensor(x_V)\n",
        "  val_y= torch.LongTensor(y_V)\n",
        "  \n",
        "  test_x =  torch.FloatTensor(x_test)\n",
        "  test_y = torch.LongTensor(y_test)\n",
        "\n",
        "  train_dataset = torch.utils.data.TensorDataset(train_x , train_y)\n",
        "  train_loader = torch.utils.data.DataLoader(train_dataset, batch_size=batch_size, shuffle=False)\n",
        "  val_dataset = torch.utils.data.TensorDataset(val_x, val_y)\n",
        "  val_loader = torch.utils.data.DataLoader(val_dataset, batch_size=batch_size, shuffle=False)\n",
        "\n",
        "  test_dataset = torch.utils.data.TensorDataset(test_x , test_y)\n",
        "  test_loader = torch.utils.data.DataLoader(test_dataset,batch_size=batch_size)\n",
        "\n",
        "  return train_loader, val_loader, test_loader\n",
        "\n",
        "def evaluate(net, testloader):\n",
        "        net.eval()\n",
        "        all_output = []\n",
        "        with torch.no_grad():\n",
        "            for inputs, labels in testloader:\n",
        "                outputs = net(inputs)\n",
        "                all_output.append(outputs.numpy())\n",
        "                \n",
        "                 \n",
        "\n",
        "        return np.vstack(all_output)\n",
        "      \n",
        "def MakePlots(T_loss , V_loss, Tittle):\n",
        " plt.plot(np.arange(1,len(T_loss)+1,1), T_loss, label=\"Training loss\", color=\"green\")\n",
        " plt.plot(np.arange(1,len(V_loss)+1,1), V_loss, label=\"Validation losss\",color=\"red\")\n",
        " plt.title(Tittle)\n",
        " plt.xlabel(\"Epochs\")\n",
        " plt.ylabel(\"loss\")\n",
        " plt.legend()\n",
        " plt.show()"
      ]
    },
    {
      "cell_type": "code",
      "execution_count": 36,
      "metadata": {
        "id": "4F3oKD6WHBXY"
      },
      "outputs": [],
      "source": [
        "#Have to be changed\n",
        "AllTrainData = np.load('C://Users//cmp23//Skrivbord//DT2119-Speech-and-Speaker-Recognition_labs//cleantraindata.npz')\n",
        "allValidationData = np.load('C://Users//cmp23//Skrivbord//DT2119-Speech-and-Speaker-Recognition_labs//cleanValidation.npz')\n",
        "allTestdata = np.load('C://Users//cmp23//Skrivbord//DT2119-Speech-and-Speaker-Recognition_labs//cleantestdata.npz')"
      ]
    },
    {
      "cell_type": "code",
      "execution_count": 37,
      "metadata": {
        "colab": {
          "base_uri": "https://localhost:8080/"
        },
        "id": "d77lUXR-JDvB",
        "outputId": "dff77632-3341-41ce-e4c9-acc26c98318d"
      },
      "outputs": [
        {
          "name": "stdout",
          "output_type": "stream",
          "text": [
            "(1527014,)\n"
          ]
        }
      ],
      "source": [
        "# lmfcc_train_x\n",
        "lmfcc_train_x = AllTrainData['lmfcc_train_x']\n",
        "train_y  =AllTrainData['train_y']\n",
        "lmfcc_val_x = allValidationData['lmfcc_val_x']\n",
        "val_y = allValidationData['val_y']\n",
        "\n",
        "lmfcc_test_x = allTestdata['mfcc_test_x']\n",
        "test_y  =allTestdata['test_y']\n",
        "print(test_y.shape)\n",
        "\n",
        "train_loader, val_loader, testloader = procesData(lmfcc_train_x, train_y, lmfcc_val_x,val_y, lmfcc_test_x, test_y)"
      ]
    },
    {
      "cell_type": "code",
      "execution_count": 38,
      "metadata": {
        "colab": {
          "base_uri": "https://localhost:8080/",
          "height": 819
        },
        "id": "cUFBexaWG-Hj",
        "outputId": "567f7180-a189-4590-91b7-271a4f7220c1"
      },
      "outputs": [
        {
          "name": "stdout",
          "output_type": "stream",
          "text": [
            "Epoch 0: train_loss=1.476588348536316, val_loss=1.981110184270192\n",
            "Epoch 1: train_loss=1.3494133573953608, val_loss=1.8726262025716829\n",
            "Epoch 2: train_loss=1.3217958274848722, val_loss=1.822947257805646\n",
            "Epoch 3: train_loss=1.3068754743978206, val_loss=1.7897631315681024\n",
            "Epoch 4: train_loss=1.2965623391004597, val_loss=1.7680976604058491\n",
            "Epoch 5: train_loss=1.2887480018556592, val_loss=1.7545127409260448\n",
            "Epoch 6: train_loss=1.2827599753721401, val_loss=1.7446683478549243\n",
            "Epoch 7: train_loss=1.2778647667221559, val_loss=1.7346869853453908\n",
            "Epoch 8: train_loss=1.2736873050440338, val_loss=1.7293366364347256\n",
            "Epoch 9: train_loss=1.2703120715246536, val_loss=1.7246161211796893\n",
            "Epoch 10: train_loss=1.2672237289824357, val_loss=1.721179338587009\n",
            "Epoch 11: train_loss=1.2646472063035643, val_loss=1.7196243374328304\n",
            "Epoch 12: train_loss=1.2624569360419662, val_loss=1.7165598243232665\n",
            "Epoch 13: train_loss=1.2603889616615265, val_loss=1.7120872735007993\n",
            "Epoch 14: train_loss=1.258539812658427, val_loss=1.7097797549837004\n",
            "Epoch 15: train_loss=1.2567418345593122, val_loss=1.7055880595998065\n",
            "Epoch 16: train_loss=1.2552475070790625, val_loss=1.7011639177314635\n",
            "Epoch 17: train_loss=1.2538464977563128, val_loss=1.6979690348229757\n",
            "Epoch 18: train_loss=1.2525638466334317, val_loss=1.693576785122476\n",
            "Epoch 19: train_loss=1.251354009964089, val_loss=1.6898432811101278\n"
          ]
        },
        {
          "data": {
            "image/png": "[encoded data removed]",
            "text/plain": [
              "<Figure size 640x480 with 1 Axes>"
            ]
          },
          "metadata": {},
          "output_type": "display_data"
        }
      ],
      "source": [
        "net = Net(13,2)\n",
        "T_loss , V_loss = fit(net,train_loader,val_loader)\n",
        "MakePlots(T_loss , V_loss, \"LMFCC , 1 layer\")\n",
        "\n"
      ]
    },
    {
      "cell_type": "code",
      "execution_count": 39,
      "metadata": {},
      "outputs": [],
      "source": [
        "pred = evaluate(net,testloader)"
      ]
    },
    {
      "cell_type": "code",
      "execution_count": 40,
      "metadata": {},
      "outputs": [
        {
          "name": "stdout",
          "output_type": "stream",
          "text": [
            "0.5126901259582427\n"
          ]
        }
      ],
      "source": [
        "#Accuracy according to 5.1.1 \n",
        "result = np.argmax(pred, axis=1)\n",
        "c =0\n",
        "\n",
        "for i in range(len(result)):\n",
        "   \n",
        "   if result[i]==test_y[i]:\n",
        "      c +=1\n",
        "\n",
        "print(c/len(result))"
      ]
    },
    {
      "cell_type": "code",
      "execution_count": 47,
      "metadata": {},
      "outputs": [
        {
          "name": "stdout",
          "output_type": "stream",
          "text": [
            "Phones: ah,   Accuracy: 30.21\n",
            "Phones: ao,   Accuracy: 63.73\n",
            "Phones: ay,   Accuracy: 56.46\n",
            "Phones: eh,   Accuracy: 13.87\n",
            "Phones: ey,   Accuracy: 24.87\n",
            "Phones: f,   Accuracy: 50.68\n",
            "Phones: ih,   Accuracy: 17.87\n",
            "Phones: iy,   Accuracy: 51.76\n",
            "Phones: k,   Accuracy: 35.84\n",
            "Phones: n,   Accuracy: 43.41\n",
            "Phones: ow,   Accuracy: 48.2\n",
            "Phones: r,   Accuracy: 53.56\n",
            "Phones: s,   Accuracy: 59.16\n",
            "Phones: sil,   Accuracy: 72.26\n",
            "Phones: sp,   Accuracy: 0.13\n",
            "Phones: t,   Accuracy: 33.51\n",
            "Phones: th,   Accuracy: 32.81\n",
            "Phones: uw,   Accuracy: 37.38\n",
            "Phones: v,   Accuracy: 28.91\n",
            "Phones: w,   Accuracy: 47.41\n",
            "Phones: z,   Accuracy: 48.91\n"
          ]
        }
      ],
      "source": [
        "#Accuracy according to 5.1.2\n",
        "from lab3_tools import *\n",
        "from lab3_proto import *\n",
        "\n",
        "from lab1_tools import *\n",
        "from lab1_proto import *\n",
        "\n",
        "from lab2_tools import *\n",
        "from lab2_proto import *\n",
        " \n",
        "phoneHMMs = np.load('lab2_models_all.npz',allow_pickle=True)['phoneHMMs'].item()\n",
        "phones = sorted(phoneHMMs.keys())\n",
        "nstates = {phone: phoneHMMs[phone]['means'].shape[0] for phone in phones}\n",
        "stateList = [ph + '_' + str(id) for ph in phones for id in range(nstates[ph])]\n",
        "\n",
        "correct = np.zeros(len(phones) , dtype=int)\n",
        "total = np.zeros(len(phones), dtype=int)\n",
        "\n",
        "for i in range(len(result)):\n",
        "   index = test_y[i]\n",
        "   word = stateList[index][:-2]\n",
        "   finalindex = phones.index(word)\n",
        "   total[finalindex] +=1 \n",
        "\n",
        "   if result[i]==test_y[i]:\n",
        "      correct[finalindex] +=1 \n",
        "\n",
        "accuracy = (correct/total) * 100\n",
        "np.set_printoptions(suppress=True)\n",
        "\n",
        "for i in range(len(phones)): \n",
        " print(\"Phones: \" + phones[i] + \",   Accuracy: \" + str(np.round(accuracy[i],2)))\n",
        " #print(np.round(accuracy,2))\n"
      ]
    }
  ],
  "metadata": {
    "accelerator": "GPU",
    "colab": {
      "gpuType": "T4",
      "provenance": []
    },
    "kernelspec": {
      "display_name": "Python 3",
      "name": "python3"
    },
    "language_info": {
      "codemirror_mode": {
        "name": "ipython",
        "version": 3
      },
      "file_extension": ".py",
      "mimetype": "text/x-python",
      "name": "python",
      "nbconvert_exporter": "python",
      "pygments_lexer": "ipython3",
      "version": "3.12.2"
    }
  },
  "nbformat": 4,
  "nbformat_minor": 0
}
