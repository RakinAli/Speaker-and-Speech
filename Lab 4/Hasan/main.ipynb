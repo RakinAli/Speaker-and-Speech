{
 "cells": [
  {
   "cell_type": "code",
   "execution_count": 1,
   "metadata": {},
   "outputs": [],
   "source": [
    "# import torchaudio\n",
    "# train_dataset = torchaudio.datasets.LIBRISPEECH('.',url='train-clean-100', download=True)\n",
    "# val_dataset = torchaudio.datasets.LIBRISPEECH('.',url='dev-clean', download=True)\n",
    "# test_dataset = torchaudio.datasets.LIBRISPEECH('.',url='test-clean', download=True)"
   ]
  },
  {
   "cell_type": "code",
   "execution_count": 1,
   "metadata": {},
   "outputs": [
    {
     "name": "stdout",
     "output_type": "stream",
     "text": [
      "[158, 42, 104, 34, 59]\n",
      "[158, 42, 104, 34, 59]\n"
     ]
    }
   ],
   "source": [
    "import torch\n",
    "from lab4_proto import * \n",
    "train_audio_transform = torch.nn.Sequential(torchaudio.transforms.MelSpectrogram(n_mels=80,sample_rate=16000), torchaudio.transforms.FrequencyMasking(freq_mask_param=15), torchaudio.transforms.TimeMasking(time_mask_param=35))\n",
    "example = torch.load('lab4_example.pt')\n",
    "my_spec, labels, length, r =dataProcessing(example['data'], train_audio_transform)\n",
    "\n",
    "\n",
    "print(r)\n",
    "print(example['label_lengths'])\n"
   ]
  }
 ],
 "metadata": {
  "kernelspec": {
   "display_name": "Python 3",
   "language": "python",
   "name": "python3"
  },
  "language_info": {
   "codemirror_mode": {
    "name": "ipython",
    "version": 3
   },
   "file_extension": ".py",
   "mimetype": "text/x-python",
   "name": "python",
   "nbconvert_exporter": "python",
   "pygments_lexer": "ipython3",
   "version": "3.12.2"
  }
 },
 "nbformat": 4,
 "nbformat_minor": 2
}
