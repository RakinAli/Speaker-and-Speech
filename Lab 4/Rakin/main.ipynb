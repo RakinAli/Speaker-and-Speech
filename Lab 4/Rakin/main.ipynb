{
 "cells": [
  {
   "cell_type": "code",
   "execution_count": 1,
   "metadata": {},
   "outputs": [],
   "source": [
    "# import torchaudio\n",
    "# train_dataset = torchaudio.datasets.LIBRISPEECH('.',url='train-clean-100', download=True)\n",
    "# val_dataset = torchaudio.datasets.LIBRISPEECH('.',url='dev-clean', download=True)\n",
    "# test_dataset = torchaudio.datasets.LIBRISPEECH('.',url='test-clean', download=True)"
   ]
  },
  {
   "cell_type": "code",
   "execution_count": 30,
   "metadata": {},
   "outputs": [
    {
     "name": "stdout",
     "output_type": "stream",
     "text": [
      "Checking spectrogram\n",
      "torch.Size([5, 1, 80, 835])\n",
      "torch.Size([5, 1, 80, 835])\n",
      "The difference in Spectrogram is very small\n",
      "Checking the labels\n",
      "The difference in Labels is very small\n",
      "Checking the shape of the output\n",
      "[158, 42, 104, 34, 59]\n",
      "[158, 42, 104, 34, 59]\n"
     ]
    }
   ],
   "source": [
    "import torch\n",
    "from lab4_proto import * \n",
    "\n",
    "train_audio_transform = torch.nn.Sequential(torchaudio.transforms.MelSpectrogram(n_mels=80,sample_rate=16000), torchaudio.transforms.FrequencyMasking(freq_mask_param=15), torchaudio.transforms.TimeMasking(time_mask_param=35))\n",
    "\n",
    "example = torch.load('lab4_example.pt')\n",
    "my_spec, labels, length, r =dataProcessing(example['data'], train_audio_transform)\n",
    "\n",
    "print(\"Checking spectrogram\")\n",
    "# Code to compare example['spectrograms'] and my_spec\n",
    "print(my_spec.shape)\n",
    "print(example['spectrograms'].shape)\n",
    "# Take the difference between the two spectrograms\n",
    "diff = my_spec - example['spectrograms']\n",
    "# Check if the difference is very small\n",
    "if torch.max(diff) <= 1e-4:\n",
    "    print(\"The difference in Spectrogram is very small\")\n",
    "else:\n",
    "    print(\"Spectrogram faulty\")\n",
    "\n",
    "print(\"Checking the labels\")\n",
    "# Code to compare example['labels'] and labels\n",
    "\n",
    "# Take the difference between the two labels\n",
    "diff = labels - example['labels']\n",
    "# Check if the difference is very small\n",
    "if torch.max(diff) <= 1e-4:\n",
    "    print(\"The difference in Labels is very small\")\n",
    "else:\n",
    "    print(\"Labels faulty\")\n",
    "\n",
    "\n",
    "\n",
    "print(\"Checking the shape of the output\")\n",
    "print(r)\n",
    "print(example['label_lengths'])\n"
   ]
  },
  {
   "cell_type": "code",
   "execution_count": 16,
   "metadata": {},
   "outputs": [
    {
     "name": "stdout",
     "output_type": "stream",
     "text": [
      "[9, 2, 20, 20, 2, 15, 1, 5, 10, 15, 1, 12, 16, 5, 1, 7, 22, 15, 12, 2, 19]\n",
      "hassan din kod funkar\n"
     ]
    }
   ],
   "source": [
    "# Testing int2string and string2int\n",
    "text = \"hassan din kod funkar\"\n",
    "\n",
    "\n",
    "print(strToInt(text))\n",
    "print(intToStr(strToInt(text)))"
   ]
  }
 ],
 "metadata": {
  "kernelspec": {
   "display_name": "Python 3",
   "language": "python",
   "name": "python3"
  },
  "language_info": {
   "codemirror_mode": {
    "name": "ipython",
    "version": 3
   },
   "file_extension": ".py",
   "mimetype": "text/x-python",
   "name": "python",
   "nbconvert_exporter": "python",
   "pygments_lexer": "ipython3",
   "version": "3.11.7"
  }
 },
 "nbformat": 4,
 "nbformat_minor": 2
}
